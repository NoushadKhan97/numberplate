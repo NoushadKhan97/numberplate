{
 "cells": [
  {
   "cell_type": "code",
   "execution_count": null,
   "metadata": {},
   "outputs": [],
   "source": [
    "import cv2\n",
    "import pytesseract as pt\n",
    "\n",
    "pt.pytesseract.tesseract_cmd=r'C:\\Program Files (x86)\\ Tesseract-OCR\\tesseract.exe'\n",
    "imge=cv2.imread(\"bike7.jpg\")\n",
    "imge=cv2.resize(imge,(600,400))\n",
    "gray=cv2.cvtColor(imge,cv2.COLOR_BGR2GRAY)\n",
    "gray = cv2.bilateralFilter(gray, 13, 15, 15) \n",
    "canny_edge=cv2.Canny(gray,100,200)\n",
    "\n",
    "contours,new=cv2.findContours(canny_edge,cv2.RETR_TREE,cv2.CHAIN_APPROX_SIMPLE)\n",
    "contours=sorted(contours,key=cv2.contourArea,reverse=True)[:10]\n",
    "\n",
    "\n",
    "contour_with_license_plate=None\n",
    "license_plate=None\n",
    "x=None;\n",
    "y=None;\n",
    "w=None;\n",
    "h=None;\n",
    "for contour in contours:\n",
    "\n",
    "       \n",
    "        perimeter=cv2.arcLength(contour,True)\n",
    "        edge=cv2.approxPolyDP(contour,0.018*perimeter,True)\n",
    "        cont=cv2.drawContours(imge,contour,-1,(255,0,0),2)\n",
    "       \n",
    "        if len(edge)==4:\n",
    "            contour_with_license_plate=edge;\n",
    "            x,y,w,h=cv2.boundingRect(contour)\n",
    "            license_plate=gray[y:y+h,x:x+w]\n",
    "            break\n",
    "cv2.imshow(\"licenseplate\",license_plate)\n",
    "custom_oem_psm_config = '--oem 3 --psm 6'\n",
    "data=pt.image_to_string(license_plate,config=custom_oem_psm_config)\n",
    "\n",
    "alphanumeric=\" \"\n",
    "for character in data:\n",
    "    if character.isalnum():\n",
    "        alphanumeric += character \n",
    "print(alphanumeric)\n",
    "imge=cv2.rectangle(imge,(x,y),(x+w,y+h),(0,0,255),3)\n",
    "imge=cv2.putText(imge,alphanumeric,(x+50,y),cv2.FONT_HERSHEY_SIMPLEX,1,(255,0,255))\n",
    "cv2.imshow(\"result\",imge)\n",
    "\n",
    "cv2.waitKey(0)\n",
    "cv2.destroyAllWindows()\n"
   ]
  }
 ],
 "metadata": {
  "kernelspec": {
   "display_name": "Python 3",
   "language": "python",
   "name": "python3"
  },
  "language_info": {
   "codemirror_mode": {
    "name": "ipython",
    "version": 3
   },
   "file_extension": ".py",
   "mimetype": "text/x-python",
   "name": "python",
   "nbconvert_exporter": "python",
   "pygments_lexer": "ipython3",
   "version": "3.7.6"
  }
 },
 "nbformat": 4,
 "nbformat_minor": 4
}
